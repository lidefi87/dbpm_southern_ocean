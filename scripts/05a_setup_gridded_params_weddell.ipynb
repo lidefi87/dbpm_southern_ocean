{
 "cells": [
  {
   "cell_type": "markdown",
   "id": "2b0fc6a1-968c-467f-9a6c-5d15003d2364",
   "metadata": {},
   "source": [
    "# Processing inputs for Weddell Sea gridded DBPM run at $0.25^{\\circ}$  \n",
    "**Author**: Denisse Fierro Arcos  \n",
    "**Date**: 2025-04-28  \n",
    "  \n",
    "We encountered issues will running the DBPM at $0.25^{\\circ}$ in the Weddell Sea. Both fish groups represented in the model, benthic detritivores and pelagic predators, crashed in the 1880s. We identified this was due to numerical instabilities.   \n",
    "  \n",
    "Since the model ran for the Weddell Sea at $1^{\\circ}$, we used this coarser resolution to find the largest temporal change in inputs that the model was able to handle. We applied at multiplier of 0.90 to the largest temporal change because numerical instabilities remained an issue.  \n",
    "  \n",
    "All functions used here are included in the `useful_functions.py` scripts."
   ]
  },
  {
   "cell_type": "markdown",
   "id": "757dc852-3788-41d5-bc58-c9af10936318",
   "metadata": {},
   "source": [
    "## Loading relevant libraries"
   ]
  },
  {
   "cell_type": "code",
   "execution_count": 1,
   "id": "d810f8c4-8792-4768-b4fa-ca078e48bb68",
   "metadata": {},
   "outputs": [],
   "source": [
    "import os\n",
    "os.chdir('/g/data/vf71/la6889/dbpm_southern_ocean/scripts/')\n",
    "import xarray as xr\n",
    "from glob import glob\n",
    "import numpy as np\n",
    "import useful_functions as uf"
   ]
  },
  {
   "cell_type": "markdown",
   "id": "8ada577b-f045-4278-aeb7-0a69378c99d8",
   "metadata": {},
   "source": [
    "## Defining basic variables to apply input correction"
   ]
  },
  {
   "cell_type": "code",
   "execution_count": 2,
   "id": "83b0421a-6a84-4314-a779-564536b32f72",
   "metadata": {},
   "outputs": [],
   "source": [
    "base_folder = '/g/data/vf71/la6889/dbpm_inputs/weddell/gridded'\n",
    "variables = ['lphy', 'sphy']\n",
    "experiments = ['ctrlclim', 'obsclim', 'spinup', 'stable-spin']"
   ]
  },
  {
   "cell_type": "markdown",
   "id": "170f459f-a100-4da0-a17c-2c6d438cc20a",
   "metadata": {},
   "source": [
    "## Applying corrections"
   ]
  },
  {
   "cell_type": "code",
   "execution_count": 3,
   "id": "3a1f98a0-4d9e-49a5-92ab-e98297849b51",
   "metadata": {},
   "outputs": [
    {
     "name": "stdout",
     "output_type": "stream",
     "text": [
      "Total number of grid cells exceeding threshold (0.5878115773200989) in lphy ctrlclim: 4544\n",
      "Total number of grid cells exceeding threshold (0.5878115773200989) in lphy obsclim: 4469\n",
      "Total number of grid cells exceeding threshold (0.5878115773200989) in lphy spinup: 10860\n",
      "Total number of grid cells exceeding threshold (0.5878115773200989) in lphy stable-spin: 0\n",
      "Total number of grid cells exceeding threshold (0.4568471968173981) in sphy ctrlclim: 4951\n",
      "Total number of grid cells exceeding threshold (0.4568471968173981) in sphy obsclim: 4926\n",
      "Total number of grid cells exceeding threshold (0.4568471968173981) in sphy spinup: 7380\n",
      "Total number of grid cells exceeding threshold (0.4568471968173981) in sphy stable-spin: 0\n"
     ]
    }
   ],
   "source": [
    "for var in variables:\n",
    "    lmad = uf.lowest_maximum_absolute_diff(base_folder, '1deg', var, prop = 0.9)\n",
    "    for exp in experiments:\n",
    "        uf.mask_absolute_diff(base_folder, '025deg', exp, var, threshold = lmad)\n",
    "        uf.exportRatio_intercept_slope(base_folder, '025deg', exp)"
   ]
  }
 ],
 "metadata": {
  "kernelspec": {
   "display_name": "Python [conda env:analysis3-25.03]",
   "language": "python",
   "name": "conda-env-analysis3-25.03-py"
  },
  "language_info": {
   "codemirror_mode": {
    "name": "ipython",
    "version": 3
   },
   "file_extension": ".py",
   "mimetype": "text/x-python",
   "name": "python",
   "nbconvert_exporter": "python",
   "pygments_lexer": "ipython3",
   "version": "3.11.11"
  }
 },
 "nbformat": 4,
 "nbformat_minor": 5
}

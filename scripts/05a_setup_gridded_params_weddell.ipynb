{
 "cells": [
  {
   "cell_type": "code",
   "execution_count": 1,
   "id": "d810f8c4-8792-4768-b4fa-ca078e48bb68",
   "metadata": {},
   "outputs": [],
   "source": [
    "import os\n",
    "os.chdir('/g/data/vf71/la6889/dbpm_southern_ocean/scripts/')\n",
    "import xarray as xr\n",
    "from glob import glob\n",
    "import numpy as np\n",
    "import useful_functions as uf"
   ]
  },
  {
   "cell_type": "code",
   "execution_count": 2,
   "id": "83b0421a-6a84-4314-a779-564536b32f72",
   "metadata": {},
   "outputs": [],
   "source": [
    "base_folder = '/g/data/vf71/la6889/dbpm_inputs/weddell/gridded'\n",
    "variables = ['lphy', 'sphy']\n",
    "experiments = ['ctrlclim', 'obsclim', 'spinup', 'stable-spin']"
   ]
  },
  {
   "cell_type": "code",
   "execution_count": 3,
   "id": "3a1f98a0-4d9e-49a5-92ab-e98297849b51",
   "metadata": {},
   "outputs": [
    {
     "name": "stdout",
     "output_type": "stream",
     "text": [
      "Total number of grid cells exceeding threshold (0.5878115773200989) in lphy ctrlclim: 4544\n",
      "Total number of grid cells exceeding threshold (0.5878115773200989) in lphy obsclim: 4469\n",
      "Total number of grid cells exceeding threshold (0.5878115773200989) in lphy spinup: 10860\n",
      "Total number of grid cells exceeding threshold (0.5878115773200989) in lphy stable-spin: 0\n",
      "Total number of grid cells exceeding threshold (0.4568471968173981) in sphy ctrlclim: 4951\n",
      "Total number of grid cells exceeding threshold (0.4568471968173981) in sphy obsclim: 4926\n",
      "Total number of grid cells exceeding threshold (0.4568471968173981) in sphy spinup: 7380\n",
      "Total number of grid cells exceeding threshold (0.4568471968173981) in sphy stable-spin: 0\n"
     ]
    }
   ],
   "source": [
    "for var in variables:\n",
    "    lmad = uf.lowest_maximum_absolute_diff(base_folder, '1deg', var, prop = 0.9)\n",
    "    for exp in experiments:\n",
    "        uf.mask_absolute_diff(base_folder, '025deg', exp, var, threshold = lmad)\n",
    "        uf.exportRatio_intercept_slope(base_folder, '025deg', exp)"
   ]
  }
 ],
 "metadata": {
  "kernelspec": {
   "display_name": "Python [conda env:analysis3-25.03] *",
   "language": "python",
   "name": "conda-env-analysis3-25.03-py"
  },
  "language_info": {
   "codemirror_mode": {
    "name": "ipython",
    "version": 3
   },
   "file_extension": ".py",
   "mimetype": "text/x-python",
   "name": "python",
   "nbconvert_exporter": "python",
   "pygments_lexer": "ipython3",
   "version": "3.11.11"
  }
 },
 "nbformat": 4,
 "nbformat_minor": 5
}

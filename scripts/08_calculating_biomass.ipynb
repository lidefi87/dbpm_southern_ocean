{
 "cells": [
  {
   "cell_type": "markdown",
   "id": "382ef9c8-1389-437c-ab67-d2e04b09f464",
   "metadata": {},
   "source": [
    "# Calculating catches from gridded DBPM outputs\n",
    "**Author**: Denisse Fierro Arcos  \n",
    "**Date**: 2025-08-06  \n",
    "\n",
    "In this notebook, we will calculate biomass for detritivores and predators from gridded DBPM outputs."
   ]
  },
  {
   "cell_type": "markdown",
   "id": "04a298b4-e50c-4c5e-a8b9-3a25de3f71fb",
   "metadata": {},
   "source": [
    "## Loading relevant libraries"
   ]
  },
  {
   "cell_type": "code",
   "execution_count": 1,
   "id": "691af78e-df2d-4288-b496-7931b9720144",
   "metadata": {},
   "outputs": [],
   "source": [
    "import os\n",
    "os.chdir('/g/data/vf71/la6889/dbpm_southern_ocean/scripts/')\n",
    "import useful_functions as uf\n",
    "from glob import glob\n",
    "import xarray as xr\n",
    "import json\n",
    "from dask.distributed import Client"
   ]
  },
  {
   "cell_type": "markdown",
   "id": "603146b7-8601-4406-aedf-1a94e43cce22",
   "metadata": {},
   "source": [
    "## Start a cluster for parallelisation"
   ]
  },
  {
   "cell_type": "code",
   "execution_count": 3,
   "id": "f5abf0f8-7af6-472e-bc38-612cc1d7fc6e",
   "metadata": {},
   "outputs": [],
   "source": [
    "client = Client(threads_per_worker = 1, connection_limit = 0)"
   ]
  },
  {
   "cell_type": "markdown",
   "id": "d721b7a5-143a-4e7b-8bf6-c9452237698c",
   "metadata": {},
   "source": [
    "## Defining basic variables to run gridded DBPM"
   ]
  },
  {
   "cell_type": "code",
   "execution_count": 13,
   "id": "33f408fa-03c2-4cf5-8802-2fe228798f7f",
   "metadata": {},
   "outputs": [],
   "source": [
    "#Name of region and model resolution\n",
    "reg_number = 'fao-58'\n",
    "reg_name = 'east_antarctica'\n",
    "model_res = '1deg'\n",
    "\n",
    "#Defining input and output folders\n",
    "base_folder = f'/g/data/vf71/la6889/dbpm_inputs/{reg_name}'\n",
    "gridded_inputs = os.path.join(base_folder, 'gridded_params', model_res)\n",
    "gridded_outputs = os.path.join(base_folder, 'run_fishing', model_res)\n",
    "outputs_folder = os.path.join(base_folder, 'gridded_dbpm_outputs', model_res)\n",
    "\n",
    "#Ensure outputs folder exists\n",
    "os.makedirs(outputs_folder, exist_ok = True)"
   ]
  },
  {
   "cell_type": "markdown",
   "id": "b7b16a54-735d-4663-be74-59660eb7736b",
   "metadata": {},
   "source": [
    "## Loading gridded parameters and gridded inputs"
   ]
  },
  {
   "cell_type": "code",
   "execution_count": 15,
   "id": "a9db7ff9-23b4-4391-a792-b1823993c93b",
   "metadata": {},
   "outputs": [],
   "source": [
    "#Gridded DBPM parameters\n",
    "gridded_params = json.load(open(\n",
    "    os.path.join(gridded_inputs, f'dbpm_gridded_size_params_{reg_number}_python.json')))\n",
    "\n",
    "#Size class bins\n",
    "log10_size_bins_mat = xr.open_zarr('outputs/log10_size_bins_matrix.zarr/')['size_bins']\n",
    "size_bin_vals = (10**log10_size_bins_mat)\n",
    "\n",
    "#Area - to be used in weighted mean calculation\n",
    "area = xr.open_zarr(glob(os.path.join(base_folder, 'gridded', model_res, \n",
    "                                      '*areacello*'))[0])['cellareao']\n",
    "area = area.fillna(0)"
   ]
  },
  {
   "cell_type": "markdown",
   "id": "7fae15c5-bb52-4ab8-9ceb-fb83d2c3f49a",
   "metadata": {},
   "source": [
    "## Calculate biomass for predators and detritivores"
   ]
  },
  {
   "cell_type": "code",
   "execution_count": 66,
   "id": "a7b42376-818c-4cef-b33a-519e140c6b42",
   "metadata": {},
   "outputs": [],
   "source": [
    "#Predators\n",
    "var_pred = 'predators'\n",
    "pred_raw = (xr.open_mfdataset(glob(\n",
    "    os.path.join(gridded_outputs, f'{var_pred}*')))[var_pred])\n",
    "\n",
    "#Detritivores\n",
    "var_det = 'detritivores'\n",
    "det_raw = (xr.open_mfdataset(glob(\n",
    "    os.path.join(gridded_outputs, f'{var_det}*')))[var_det])"
   ]
  },
  {
   "cell_type": "code",
   "execution_count": 67,
   "id": "443dc282-ddf2-4407-934f-6decec38f888",
   "metadata": {},
   "outputs": [],
   "source": [
    "pred = ((pred_raw*size_bin_vals*\n",
    "        gridded_params['log_size_increase']).\n",
    "    isel(size_class = slice(gridded_params['ind_min_pred_size'],\n",
    "                            None)))\n",
    "pred.name = 'pred_biomass'\n",
    "pred['size_class'] = 10**pred.size_class.values\n",
    "pred = pred.assign_attrs({'short_name': 'pred_biomass',\n",
    "                          'long_name': 'Predator biomass per size class (in g)',\n",
    "                          'units': 'g m-2'})"
   ]
  },
  {
   "cell_type": "code",
   "execution_count": 68,
   "id": "6dda6647-400e-4a3c-8438-2513c75eb692",
   "metadata": {},
   "outputs": [],
   "source": [
    "det = ((det_raw*size_bin_vals*\n",
    "        gridded_params['log_size_increase']).\n",
    "    isel(size_class = slice(gridded_params['ind_min_detritivore_size'],\n",
    "                            None)))\n",
    "det.name = 'detriti_biomass'\n",
    "det['size_class'] = 10**det.size_class.values\n",
    "det = det.assign_attrs({'short_name': 'detriti_biomass',\n",
    "                        'long_name': 'Detritivore biomass per size class (in g)',\n",
    "                        'units': 'g m-2'})"
   ]
  },
  {
   "cell_type": "markdown",
   "id": "70f7a5e7-ded1-4911-8b68-91b5bae80a9d",
   "metadata": {},
   "source": [
    "### Save outputs"
   ]
  },
  {
   "cell_type": "code",
   "execution_count": 69,
   "id": "00554b67-4fb4-4b0f-b1a4-9c5211468872",
   "metadata": {},
   "outputs": [
    {
     "data": {
      "text/plain": [
       "<xarray.backends.zarr.ZarrStore at 0x14d639fff600>"
      ]
     },
     "execution_count": 69,
     "metadata": {},
     "output_type": "execute_result"
    }
   ],
   "source": [
    "pred.to_zarr(\n",
    "    os.path.join(outputs_folder,\n",
    "                 f'pred_biomass_size_group_{reg_number}_1841-2010.zarr'),\n",
    "    consolidated = True, mode = 'w')\n",
    "\n",
    "det.to_zarr(\n",
    "    os.path.join(outputs_folder,\n",
    "                 f'detriti_biomass_size_group_{reg_number}_1841-2010.zarr'),\n",
    "    consolidated = True, mode = 'w')"
   ]
  },
  {
   "cell_type": "markdown",
   "id": "0e7a83a5-e6c4-4177-ad4d-6a8e4d78ac9f",
   "metadata": {},
   "source": [
    "### Load biomass if previously calculated"
   ]
  },
  {
   "cell_type": "code",
   "execution_count": 16,
   "id": "dbc1a860-49d5-4314-9889-5f1f060c4445",
   "metadata": {},
   "outputs": [],
   "source": [
    "pred = xr.open_zarr(os.path.join(\n",
    "    outputs_folder,\n",
    "    f'pred_biomass_size_group_{reg_number}_1841-2010.zarr'))['pred_biomass']\n",
    "\n",
    "det = xr.open_zarr(os.path.join(\n",
    "    outputs_folder,\n",
    "    f'detriti_biomass_size_group_{reg_number}_1841-2010.zarr'))['detriti_biomass']"
   ]
  },
  {
   "cell_type": "markdown",
   "id": "0acfa07c-0c62-4be5-a223-71a9483c9d6e",
   "metadata": {},
   "source": [
    "### **Optional:** Subset biomass for predators and detritivores\n",
    "If different from the minimum body size given in the `gridded_params` variable."
   ]
  },
  {
   "cell_type": "code",
   "execution_count": 5,
   "id": "e41716a7-2e3f-4b5b-baa7-0a190f1703c4",
   "metadata": {},
   "outputs": [],
   "source": [
    "pred = pred.sel(size_class = slice(10, None))\n",
    "det = det.sel(size_class = slice(10, None))"
   ]
  },
  {
   "cell_type": "markdown",
   "id": "3cf74c8b-ecca-45c6-bb8c-cbd853733a34",
   "metadata": {},
   "source": [
    "### Calculate mean group biomass per area per time step"
   ]
  },
  {
   "cell_type": "code",
   "execution_count": 6,
   "id": "62b82d3e-3c31-4184-8400-7b1e98580203",
   "metadata": {},
   "outputs": [
    {
     "name": "stderr",
     "output_type": "stream",
     "text": [
      "\n",
      "KeyboardInterrupt\n",
      "\n"
     ]
    }
   ],
   "source": [
    "# Predators\n",
    "pred_tot = pred.sum('size_class')\n",
    "pred_tot_w = pred_tot.weighted(area)\n",
    "pred_tot_w_mean = pred_tot_w.mean(('lat', 'lon')).load()\n",
    "pred_tot_w_mean.name = 'tot_pred_bio'\n",
    "\n",
    "# Detritivores\n",
    "det_tot = det.sum('size_class')\n",
    "det_tot_w = det_tot.weighted(area)\n",
    "det_tot_w_mean = det_tot_w.mean(('lat', 'lon')).load()\n",
    "det_tot_w_mean.name = 'tot_det_bio'"
   ]
  },
  {
   "cell_type": "markdown",
   "id": "c2e993f1-4158-4d8e-b32f-24a40e9165e1",
   "metadata": {},
   "source": [
    "### Calculate mean group exploitable biomass per area per time step"
   ]
  },
  {
   "cell_type": "code",
   "execution_count": 72,
   "id": "93e9620f-ea06-426f-b31d-ee4580fa65cf",
   "metadata": {},
   "outputs": [],
   "source": [
    "#Predators\n",
    "pred_exp = ((pred_raw*size_bin_vals*\n",
    "             gridded_params['log_size_increase']).\n",
    "    isel(size_class = slice(gridded_params['ind_min_fish_pred'],\n",
    "                            None))).sum('size_class')\n",
    "pred_exp_w = pred_exp.weighted(area)\n",
    "pred_exp_w_mean = pred_exp_w.mean(('lat', 'lon')).load()\n",
    "pred_exp_w_mean.name = 'tot_expl_pred_bio'\n",
    "\n",
    "#Detritivores\n",
    "det_exp = ((det_raw*size_bin_vals*\n",
    "             gridded_params['log_size_increase']).\n",
    "    isel(size_class = slice(gridded_params['ind_min_fish_det'],\n",
    "                            None))).sum('size_class')\n",
    "det_exp_w = det_exp.weighted(area)\n",
    "det_exp_w_mean = det_exp_w.mean(('lat', 'lon')).load()\n",
    "det_exp_w_mean.name = 'tot_expl_det_bio'"
   ]
  },
  {
   "cell_type": "markdown",
   "id": "120847ec-b52d-4f88-b332-139f20c76ca7",
   "metadata": {},
   "source": [
    "## Saving results as tables"
   ]
  },
  {
   "cell_type": "code",
   "execution_count": 73,
   "id": "75a4315f-77b4-48a8-990e-63c0feafb558",
   "metadata": {},
   "outputs": [],
   "source": [
    "bio_pred_det = (xr.merge([pred_exp_w_mean, pred_tot_w_mean, \n",
    "                          det_exp_w_mean, det_tot_w_mean]).to_dataframe().\n",
    "    reset_index())\n",
    "bio_pred_det['region'] = reg_number.upper().replace('-', ' ')\n",
    "bio_pred_det['resolution'] = model_res"
   ]
  },
  {
   "cell_type": "code",
   "execution_count": 75,
   "id": "29e6821b-8cea-4d39-955e-c27143d8a1ed",
   "metadata": {},
   "outputs": [],
   "source": [
    "bio_pred_det.to_parquet(\n",
    "    os.path.join(outputs_folder,\n",
    "                 # f'mean_pred_det_bio_{reg_number}_1841-2010.parquet'),\n",
    "                 f'mean_pred_det_10g-1t-bio_exploit-bio_{reg_number}_1841-2010.parquet'),\n",
    "    index = False)"
   ]
  }
 ],
 "metadata": {
  "kernelspec": {
   "display_name": "Python [conda env:analysis3-25.07] *",
   "language": "python",
   "name": "conda-env-analysis3-25.07-py"
  },
  "language_info": {
   "codemirror_mode": {
    "name": "ipython",
    "version": 3
   },
   "file_extension": ".py",
   "mimetype": "text/x-python",
   "name": "python",
   "nbconvert_exporter": "python",
   "pygments_lexer": "ipython3",
   "version": "3.11.13"
  }
 },
 "nbformat": 4,
 "nbformat_minor": 5
}

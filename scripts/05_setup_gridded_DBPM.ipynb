{
 "cells": [
  {
   "cell_type": "markdown",
   "id": "2b0fc6a1-968c-467f-9a6c-5d15003d2364",
   "metadata": {},
   "source": [
    "# Setting up inputs for the gridded DBPM run\n",
    "**Author**: Denisse Fierro Arcos  \n",
    "**Date**: 2025-01-10  \n",
    "  \n",
    "In this notebook, we will prepare all necessary inputs need to run the gridded version of DBPM. Note that this step needs to be completed only once for each model run.  "
   ]
  },
  {
   "cell_type": "markdown",
   "id": "757dc852-3788-41d5-bc58-c9af10936318",
   "metadata": {},
   "source": [
    "## Loading relevant libraries"
   ]
  },
  {
   "cell_type": "code",
   "execution_count": 1,
   "id": "848b5327-1a0a-422e-84eb-068cb68e341b",
   "metadata": {},
   "outputs": [],
   "source": [
    "import os\n",
    "os.chdir('/g/data/vf71/la6889/dbpm_southern_ocean/scripts/')\n",
    "from glob import glob\n",
    "import xarray as xr\n",
    "import json\n",
    "import pandas as pd\n",
    "import numpy as np\n",
    "import useful_functions as uf\n",
    "from dask.distributed import Client"
   ]
  },
  {
   "cell_type": "markdown",
   "id": "4421d2e2-582e-4b52-acbb-908c948f554b",
   "metadata": {},
   "source": [
    "## Start a cluster for parallelisation"
   ]
  },
  {
   "cell_type": "code",
   "execution_count": 2,
   "id": "ebd04e5c-6715-494c-8700-808b31950a9e",
   "metadata": {},
   "outputs": [],
   "source": [
    "client = Client(threads_per_worker = 1)"
   ]
  },
  {
   "cell_type": "markdown",
   "id": "cf196b6d-ee2c-4f02-88c3-980b042e6123",
   "metadata": {},
   "source": [
    "## Defining output folder"
   ]
  },
  {
   "cell_type": "code",
   "execution_count": 2,
   "id": "20344702-3049-4af0-ad77-85a1e9d2a1f2",
   "metadata": {},
   "outputs": [],
   "source": [
    "base_folder = '/g/data/vf71/la6889/dbpm_inputs/east_antarctica/'\n",
    "model_res = '1deg'\n",
    "reg_int = 'fao-58'\n",
    "out_folder = os.path.join(base_folder, 'gridded_params', model_res)\n",
    "os.makedirs(out_folder, exist_ok = True)"
   ]
  },
  {
   "cell_type": "markdown",
   "id": "65d2ca1e-d3b3-4769-b9cc-4d8ad117dd60",
   "metadata": {},
   "source": [
    "Setting variable names to save outputs."
   ]
  },
  {
   "cell_type": "code",
   "execution_count": 3,
   "id": "c3526cc2-4d46-4396-a1f1-4e5d15a289df",
   "metadata": {},
   "outputs": [],
   "source": [
    "#Get the correct model resolution in arcmin to add to file name\n",
    "if model_res == '1deg':\n",
    "    model_res_arc = '60arcmin'\n",
    "elif model_res == '025deg':\n",
    "    model_res_arc = '15arcmin'"
   ]
  },
  {
   "cell_type": "markdown",
   "id": "199aeabb-68d7-4e91-bed6-1fc4f7d6545e",
   "metadata": {},
   "source": [
    "## Transforming DBPM parameters to Python-friendly format\n",
    "These parameters are the outputs of the `sizeparam` function for R. They were calculated and stored in the script ([04_calculating_dbpm_fishing_params](new_workflow/04_calculating_dbpm_fishing_params.R)) as a `json` file."
   ]
  },
  {
   "cell_type": "code",
   "execution_count": 4,
   "id": "ad8c592a-521d-4115-839c-4ce841503b05",
   "metadata": {},
   "outputs": [],
   "source": [
    "#Loading gridded parameters\n",
    "gridded_params = json.load(open(\n",
    "    os.path.join(out_folder, f'dbpm_gridded_size_params_{reg_int}.json')))\n",
    "\n",
    "#Transforming them to Python friendly format\n",
    "gridded_python = uf.gridded_param_python(gridded_params)"
   ]
  },
  {
   "cell_type": "markdown",
   "id": "60346558-a156-491b-b396-c07d0216c6e3",
   "metadata": {},
   "source": [
    "### Adding useful entries to gridded parameters\n",
    "These variables are used multiple times within the `gridded_size_model` script, so they will be added for convenience."
   ]
  },
  {
   "cell_type": "code",
   "execution_count": 5,
   "id": "2e364a95-7416-4d7e-80c7-18385fd99214",
   "metadata": {},
   "outputs": [],
   "source": [
    "# Size classes\n",
    "log10_size_bins = np.array(gridded_python['log10_size_bins'])\n",
    "# Minimum (log10) size class for predators\n",
    "log10_ind_min_pred_size = log10_size_bins[gridded_python['ind_min_pred_size']]\n",
    "ind_min_detritivore_size = gridded_python['ind_min_detritivore_size']\n",
    "log10_ind_min_detritivore_size = log10_size_bins[ind_min_detritivore_size]\n",
    "log10_ind_min_fish_pred = log10_size_bins[gridded_python['ind_min_fish_pred']]\n",
    "log10_ind_min_fish_det = log10_size_bins[gridded_python['ind_min_fish_det']]\n",
    "\n",
    "#Adding new variables to gridded parameters\n",
    "gridded_python['log10_ind_min_pred_size'] = log10_ind_min_pred_size\n",
    "gridded_python['log10_ind_min_detritivore_size'] = log10_ind_min_detritivore_size"
   ]
  },
  {
   "cell_type": "markdown",
   "id": "978925c3-6d4d-452f-87b0-df71d6acce89",
   "metadata": {},
   "source": [
    "### Saving gridded parameters"
   ]
  },
  {
   "cell_type": "code",
   "execution_count": 186,
   "id": "0d6806f8-a5d9-42ba-a51a-68edca645209",
   "metadata": {},
   "outputs": [],
   "source": [
    "out_gridded = os.path.join(out_folder, f'dbpm_gridded_size_params_{reg_int}_python.json')\n",
    "\n",
    "#Save to disk\n",
    "with open(out_gridded, 'w') as outfile:\n",
    "    json.dump(gridded_python, outfile)"
   ]
  },
  {
   "cell_type": "markdown",
   "id": "60241835-6621-4fa2-aefb-4f699fe9d890",
   "metadata": {},
   "source": [
    "## Loading gridded input data\n",
    "Gridded data are needed both as direct input to DBPM and to calculate params, such as habitat preference, pelagic predator and benthic detritivore size spectrum, among other things."
   ]
  },
  {
   "cell_type": "code",
   "execution_count": 6,
   "id": "01f5e881-ab0c-47e4-a369-7169a0a1a836",
   "metadata": {},
   "outputs": [],
   "source": [
    "depth = xr.open_zarr(glob(\n",
    "    os.path.join(base_folder, 'gridded', model_res, \n",
    "                 f'gfdl-mom6-cobalt2_obsclim_deptho_*_{reg_int}_fixed.zarr/'))[0])['deptho']"
   ]
  },
  {
   "cell_type": "code",
   "execution_count": 8,
   "id": "eb6a1662-199a-4299-a0be-f42b7e0a2ecd",
   "metadata": {},
   "outputs": [],
   "source": [
    "#Loading intercept data for spinup period\n",
    "int_phy_zoo_spinup = xr.open_zarr(glob(\n",
    "    os.path.join(base_folder, 'gridded', model_res,\n",
    "                 f'gfdl-mom6-cobalt2_spinup_intercept_*_{reg_int}_monthly_1841_1960.zarr/'))[0])['intercept']\n",
    "\n",
    "#Loading intercept data for model period and fixing time values\n",
    "int_phy_zoo  = xr.open_zarr(glob(\n",
    "    os.path.join(base_folder, 'gridded', model_res,\n",
    "                 f'gfdl-mom6-cobalt2_obsclim_intercept_*_{reg_int}_monthly_1961_2010.zarr/'))[0])['intercept']"
   ]
  },
  {
   "cell_type": "code",
   "execution_count": 9,
   "id": "48156406-6fa6-4d1e-b76f-8211381376aa",
   "metadata": {},
   "outputs": [],
   "source": [
    "#Loading sea surface temperature data for spinup period\n",
    "sea_surf_temp_spinup = xr.open_zarr(glob(\n",
    "    os.path.join(base_folder, 'gridded', model_res,\n",
    "                 f'gfdl-mom6-cobalt2_spinup_tos_*_{reg_int}_monthly_1841_1960.zarr'))[0])['tos']\n",
    "\n",
    "#Loading sea surface temperature data for model period and fixing time values\n",
    "sea_surf_temp  = xr.open_zarr(glob(\n",
    "    os.path.join(base_folder, 'gridded', model_res,\n",
    "                 f'gfdl-mom6-cobalt2_obsclim_tos_*_{reg_int}_monthly_1961_2010.zarr/'))[0])['tos']"
   ]
  },
  {
   "cell_type": "code",
   "execution_count": 10,
   "id": "39343a15-936d-413c-b28f-92de7787fff3",
   "metadata": {},
   "outputs": [],
   "source": [
    "#Loading bottom ocean temperature data for spinup period\n",
    "sea_floor_temp_spinup = xr.open_zarr(glob(\n",
    "    os.path.join(base_folder, 'gridded', model_res,\n",
    "                 f'gfdl-mom6-cobalt2_spinup_tob_*_{reg_int}_monthly_1841_1960.zarr'))[0])['tob']\n",
    "\n",
    "#Loading bottom ocean temperature data for model period and fixing time values\n",
    "sea_floor_temp  = xr.open_zarr(glob(\n",
    "    os.path.join(base_folder, 'gridded', model_res,\n",
    "                 f'gfdl-mom6-cobalt2_obsclim_tob_*_{reg_int}_monthly_1961_2010.zarr/'))[0])['tob']"
   ]
  },
  {
   "cell_type": "markdown",
   "id": "0970e6ab-8c4f-496e-bfc3-f486addd44ed",
   "metadata": {},
   "source": [
    "### Creating time variable that contains a timestep for initialisation of DBPM\n",
    "The initialisation time is the month prior to the earliest timestep in the `spinup` period. If a `spinup` period is not necessary, then this will be the month prior to the start of the model."
   ]
  },
  {
   "cell_type": "code",
   "execution_count": 191,
   "id": "82c824a1-c018-4c27-b2ba-7afa561753b6",
   "metadata": {},
   "outputs": [],
   "source": [
    "time_init = [pd.Timestamp(int_phy_zoo_spinup.time[0].values)-pd.DateOffset(months = 1)]"
   ]
  },
  {
   "cell_type": "markdown",
   "id": "8665fe08-6619-4929-a8b8-d3feca30ccf5",
   "metadata": {},
   "source": [
    "## Creating gridded variables needed for DBPM run\n",
    "We will create data array versions of the gridded inputs."
   ]
  },
  {
   "cell_type": "markdown",
   "id": "7112441d-4b3b-49b1-bbfc-41e3b98a9e2c",
   "metadata": {},
   "source": [
    "### DBPM size classes"
   ]
  },
  {
   "cell_type": "code",
   "execution_count": 11,
   "id": "de3b73e0-857c-43a6-8a63-21c678f92b6b",
   "metadata": {},
   "outputs": [],
   "source": [
    "# Log10 size of individuals found in the model\n",
    "log10_size_bins_mat = xr.DataArray(data = log10_size_bins,\n",
    "                                   dims = ['size_class'], \n",
    "                                   coords = {'size_class': log10_size_bins})"
   ]
  },
  {
   "cell_type": "markdown",
   "id": "483dc5a7-f18a-4bb2-b259-4c7ed5e1918e",
   "metadata": {},
   "source": [
    "The `log10_size_bins_mat` only needs to be saved once per because size classes are the same for a set of experiments. This variable does **not** vary across space or time."
   ]
  },
  {
   "cell_type": "code",
   "execution_count": 149,
   "id": "240ff602-b032-42bc-b52a-ec73628f838f",
   "metadata": {},
   "outputs": [
    {
     "data": {
      "text/plain": [
       "<xarray.backends.zarr.ZarrStore at 0x15338efe8f40>"
      ]
     },
     "execution_count": 149,
     "metadata": {},
     "output_type": "execute_result"
    }
   ],
   "source": [
    "log10_size_bins_mat.name = 'size_bins'\n",
    "log10_size_bins_mat.to_zarr('outputs/log10_size_bins_matrix.zarr/',\n",
    "                            consolidated = True, mode = 'w')"
   ]
  },
  {
   "cell_type": "markdown",
   "id": "35fde49e-006e-4910-8ad8-ca8cb3a12948",
   "metadata": {},
   "source": [
    "### Fishing effort\n",
    "Effort data for the `spinup` and modelling period is provided in a single entry in `gridded_python`. We will split this data into the `spinup` and modelling period."
   ]
  },
  {
   "cell_type": "code",
   "execution_count": 193,
   "id": "8718defd-1196-4996-9011-a7e4f5dc61b8",
   "metadata": {},
   "outputs": [],
   "source": [
    "effort_spinup = (xr.DataArray(gridded_python['effort'][:len(int_phy_zoo_spinup.time)], \n",
    "                              dims = 'time', \n",
    "                              coords = {'time': int_phy_zoo_spinup.time}).\n",
    "                 expand_dims({'lat': depth.lat, 'lon': depth.lon}).\n",
    "                 transpose('time', 'lat', 'lon')).where(np.isfinite(depth))\n",
    "\n",
    "effort = (xr.DataArray(gridded_python['effort'][len(int_phy_zoo_spinup.time):],\n",
    "                       dims = 'time', coords = {'time': int_phy_zoo.time}).\n",
    "          expand_dims({'lat': depth.lat, 'lon': depth.lon}).\n",
    "          transpose('time', 'lat', 'lon')).where(np.isfinite(depth))"
   ]
  },
  {
   "cell_type": "code",
   "execution_count": 194,
   "id": "16401e7c-a1be-4c2d-9ee5-a147c865ad5b",
   "metadata": {},
   "outputs": [
    {
     "data": {
      "text/plain": [
       "<xarray.backends.zarr.ZarrStore at 0x15338e8f1cc0>"
      ]
     },
     "execution_count": 194,
     "metadata": {},
     "output_type": "execute_result"
    }
   ],
   "source": [
    "effort_spinup.name = 'effort'\n",
    "effort_out = effort_spinup.chunk({'lon': len(effort_spinup.lon), \n",
    "                                  'lat': len(effort_spinup.lat), 'time': 120})\n",
    "effort_out.to_zarr(\n",
    "    os.path.join(out_folder, f'effort_spinup_{model_res_arc}_{reg_int}_monthly_1841_1960.zarr/'),\n",
    "                   consolidated = True, mode = 'w')\n",
    "\n",
    "effort.name = 'effort'\n",
    "effort_out = effort.chunk({'lon': len(effort.lon), 'lat': len(effort.lat), 'time': 120})\n",
    "effort_out.to_zarr(\n",
    "    os.path.join(out_folder, f'effort_{model_res_arc}_{reg_int}_monthly_1961_2010.zarr/'),\n",
    "                   consolidated = True, mode = 'w')"
   ]
  },
  {
   "cell_type": "markdown",
   "id": "5ade47de-7a3c-422d-9513-195535ddbca6",
   "metadata": {},
   "source": [
    "### Setting habitat preferences\n",
    "Predator coupling to benthic prey, which is depth dependent, 0.75 above 500 m, 0.5 between 500 and 1800 m, and 0 below 1800 m. Predator coupling to pelagic prey is equal to `1-(benthic coupling)`.  \n",
    "  \n",
    "These values were suggested by Clive Trueman based on stable isotope work, and proportion of biomass. Rockall Trough studies."
   ]
  },
  {
   "cell_type": "code",
   "execution_count": 195,
   "id": "fb97791d-c4d1-4e60-90d5-dc9e774a3991",
   "metadata": {},
   "outputs": [],
   "source": [
    "pref_benthos = (0.8*np.exp((-1/250*depth)))\n",
    "pref_pelagic = (1-pref_benthos)"
   ]
  },
  {
   "cell_type": "code",
   "execution_count": 196,
   "id": "13cb7594-9382-41b4-a25a-3d3f88581db0",
   "metadata": {},
   "outputs": [
    {
     "data": {
      "text/plain": [
       "<xarray.backends.zarr.ZarrStore at 0x15338efebf40>"
      ]
     },
     "execution_count": 196,
     "metadata": {},
     "output_type": "execute_result"
    }
   ],
   "source": [
    "pref_benthos.name = 'pref_benthos'\n",
    "pref_benthos.to_zarr(os.path.join(out_folder, \n",
    "                                  f'pref-benthos_{model_res_arc}_{reg_int}_fixed.zarr/'),\n",
    "                     consolidated = True, mode = 'w')\n",
    "pref_pelagic.name = 'pref_pelagic'\n",
    "pref_pelagic.to_zarr(os.path.join(out_folder, \n",
    "                                  f'pref-pelagic_{model_res_arc}_{reg_int}_fixed.zarr/'), \n",
    "                     consolidated = True, mode = 'w')"
   ]
  },
  {
   "cell_type": "markdown",
   "id": "fd6815bb-5b81-4b67-9ea9-f6474617aefd",
   "metadata": {},
   "source": [
    "### Building metabolic requirements lookup table \n",
    "Metabolic requirements are estimated per size class"
   ]
  },
  {
   "cell_type": "code",
   "execution_count": 197,
   "id": "0185155e-c198-4a62-8088-99d4d02360c1",
   "metadata": {},
   "outputs": [],
   "source": [
    "met_req_log10_size_bins = uf.expax_f(log10_size_bins_mat, \n",
    "                                     gridded_python['metabolic_req_pred'])"
   ]
  },
  {
   "cell_type": "code",
   "execution_count": 198,
   "id": "04776167-9b9f-4bac-98f3-5b478c7c9a6d",
   "metadata": {},
   "outputs": [],
   "source": [
    "consume_pelagic = (pref_pelagic*gridded_python['hr_volume_search']*\n",
    "                   met_req_log10_size_bins)\n",
    "consume_benthos = (pref_benthos*gridded_python['hr_volume_search']*\n",
    "                   met_req_log10_size_bins)"
   ]
  },
  {
   "cell_type": "code",
   "execution_count": 199,
   "id": "90cd8acf-aca0-428d-aaf7-545feb393278",
   "metadata": {},
   "outputs": [
    {
     "data": {
      "text/plain": [
       "<xarray.backends.zarr.ZarrStore at 0x15338e8f1f40>"
      ]
     },
     "execution_count": 199,
     "metadata": {},
     "output_type": "execute_result"
    }
   ],
   "source": [
    "consume_pelagic.name = 'consume_pelagic'\n",
    "consume_pelagic.to_zarr(os.path.join(out_folder,\n",
    "                                     f'consume-pelagic_{model_res_arc}_{reg_int}_fixed.zarr/'),\n",
    "                        consolidated = True, mode = 'w')\n",
    "\n",
    "consume_benthos.name = 'consume_benthos'\n",
    "consume_benthos.to_zarr(os.path.join(out_folder,\n",
    "                                     f'consume-benthos_{model_res_arc}_{reg_int}_fixed.zarr/'),\n",
    "                        consolidated = True, mode = 'w')"
   ]
  },
  {
   "cell_type": "markdown",
   "id": "2b8d8ba1-2030-4bbd-a24b-045e2256b7b6",
   "metadata": {},
   "source": [
    "### Calculating constant growth and mortality"
   ]
  },
  {
   "cell_type": "code",
   "execution_count": 200,
   "id": "b0e8f5ce-c8f3-4b2b-ab62-bb6780213f77",
   "metadata": {},
   "outputs": [],
   "source": [
    "pred_prey_mat = uf.pred_prey_matrix(log10_size_bins)\n",
    "\n",
    "constant_growth = xr.DataArray(uf.gphi_f(pred_prey_mat, \n",
    "                                         gridded_python['log10_pred_prey_ratio'],\n",
    "                                         gridded_python['log_prey_pref']),\n",
    "                               dims = ['size_class', 'sc'])\n",
    "\n",
    "constant_mortality = xr.DataArray(uf.mphi_f(-pred_prey_mat, \n",
    "                                            gridded_python['log10_pred_prey_ratio'],\n",
    "                                            gridded_python['log_prey_pref'],\n",
    "                                            gridded_python['metabolic_req_pred']),\n",
    "                                  dims = ['size_class', 'sc'])"
   ]
  },
  {
   "cell_type": "code",
   "execution_count": 201,
   "id": "c525838f-2081-412d-a641-ff6266af7257",
   "metadata": {},
   "outputs": [
    {
     "data": {
      "text/plain": [
       "<xarray.backends.zarr.ZarrStore at 0x15338efeb9c0>"
      ]
     },
     "execution_count": 201,
     "metadata": {},
     "output_type": "execute_result"
    }
   ],
   "source": [
    "constant_growth.name = 'constant_growth'\n",
    "constant_growth.to_zarr(os.path.join(out_folder,\n",
    "                                     f'const-growth_{model_res_arc}_{reg_int}_fixed.zarr/'),\n",
    "                        consolidated = True, mode = 'w')\n",
    "\n",
    "constant_mortality.name = 'constant_mortality'\n",
    "constant_mortality.to_zarr(os.path.join(out_folder,\n",
    "                                        f'const-mort_{model_res_arc}_{reg_int}_fixed.zarr/'),\n",
    "                        consolidated = True, mode = 'w')"
   ]
  },
  {
   "cell_type": "markdown",
   "id": "3bc05354-7be9-4bbe-8154-0e29c53634b5",
   "metadata": {},
   "source": [
    "### Creating a gridded time series of intercept of plankton size spectrum \n",
    "The size spectrum was estimated by the `GetPPIntSlope` function using GFDL-MOM6-COBALT2 outputs in script ([01_processing_dbpm_global_inputs](new_workflow/01_processing_dbpm_global_inputs.ipynb))."
   ]
  },
  {
   "cell_type": "code",
   "execution_count": 13,
   "id": "8ef1bc70-87a5-4e55-b09f-07df49883f33",
   "metadata": {},
   "outputs": [],
   "source": [
    "ui0_spinup = 10**int_phy_zoo_spinup\n",
    "ui0 = 10**int_phy_zoo"
   ]
  },
  {
   "cell_type": "code",
   "execution_count": 14,
   "id": "87bde32c-d52a-4ab7-8e65-b02cd06270f3",
   "metadata": {},
   "outputs": [
    {
     "data": {
      "text/plain": [
       "<xarray.backends.zarr.ZarrStore at 0x145bf55b9cc0>"
      ]
     },
     "execution_count": 14,
     "metadata": {},
     "output_type": "execute_result"
    }
   ],
   "source": [
    "ui0_spinup.name = 'ui0'\n",
    "ui0_spinup.to_zarr(os.path.join(out_folder,\n",
    "                                f'ui0_spinup_{model_res_arc}_{reg_int}_monthly_1841_1960.zarr/'),\n",
    "                   consolidated = True, mode = 'w')\n",
    "\n",
    "ui0.name = 'ui0'\n",
    "ui0.to_zarr(os.path.join(out_folder,\n",
    "                         f'ui0_{model_res_arc}_{reg_int}_monthly_1961_2010.zarr/'),\n",
    "            consolidated = True, mode = 'w')"
   ]
  },
  {
   "cell_type": "markdown",
   "id": "1a2ac792-e056-476a-b6d0-9c1c3a7b1672",
   "metadata": {},
   "source": [
    "### Initiliasing values for pelagic predators"
   ]
  },
  {
   "cell_type": "code",
   "execution_count": 204,
   "id": "dd28da80-279b-43a7-ad66-70e44eb74976",
   "metadata": {},
   "outputs": [],
   "source": [
    "predators = (xr.DataArray(data = gridded_python['init_pred'], \n",
    "                          dims = ['size_class'], \n",
    "                          coords = {'size_class': log10_size_bins}).\n",
    "             expand_dims({'time': time_init, 'lat': depth.lat, 'lon': depth.lon}))\n",
    "\n",
    "#Applying spatial mask\n",
    "predators = predators.where(np.isfinite(depth))"
   ]
  },
  {
   "cell_type": "code",
   "execution_count": 205,
   "id": "eab371a1-d272-4017-a9c2-a7ba83907748",
   "metadata": {},
   "outputs": [
    {
     "data": {
      "text/plain": [
       "<xarray.backends.zarr.ZarrStore at 0x15337da31240>"
      ]
     },
     "execution_count": 205,
     "metadata": {},
     "output_type": "execute_result"
    }
   ],
   "source": [
    "predators.name = 'predators'\n",
    "predators.to_zarr(os.path.join(out_folder, \n",
    "                               f'predators_{model_res_arc}_{reg_int}_init_1840.zarr/'),\n",
    "                  consolidated = True, mode = 'w')"
   ]
  },
  {
   "cell_type": "markdown",
   "id": "41385022-5883-42ea-ac7c-920b3be2b276",
   "metadata": {},
   "source": [
    "### Detritivore biomass and detritus\n",
    "Creating gridded versions of `detritivores` and `detritus` initalising values to be used in gridded DBPM."
   ]
  },
  {
   "cell_type": "code",
   "execution_count": 206,
   "id": "1b74214d-def7-43cf-9407-418bed62fdaa",
   "metadata": {},
   "outputs": [],
   "source": [
    "init_detritivores = (xr.DataArray(data = gridded_python['init_detritivores'], \n",
    "                                  dims = ['size_class'], \n",
    "                                  coords = {'size_class': log10_size_bins}).\n",
    "                     expand_dims({'lat': depth.lat, 'lon': depth.lon}))\n",
    "\n",
    "# Assigning initial values (time = 0) for detritivores from gridded parameters\n",
    "detritivores = xr.where((init_detritivores.size_class >= log10_ind_min_detritivore_size),\n",
    "                        init_detritivores, 0)\n",
    "# Adding time dimension\n",
    "detritivores = detritivores.expand_dims({'time': time_init})\n",
    "\n",
    "#Applying spatial mask\n",
    "detritivores = detritivores.where(np.isfinite(depth))"
   ]
  },
  {
   "cell_type": "code",
   "execution_count": 207,
   "id": "2dd27b03-5cef-42d6-ba25-986916997d74",
   "metadata": {},
   "outputs": [
    {
     "data": {
      "text/plain": [
       "<xarray.backends.zarr.ZarrStore at 0x15337da32ec0>"
      ]
     },
     "execution_count": 207,
     "metadata": {},
     "output_type": "execute_result"
    }
   ],
   "source": [
    "detritivores.name = 'detritivores'\n",
    "detritivores.to_zarr(os.path.join(out_folder, \n",
    "                                  f'detritivores_{model_res_arc}_{reg_int}_init_1840.zarr/'),\n",
    "                     consolidated = True, mode = 'w')"
   ]
  },
  {
   "cell_type": "code",
   "execution_count": 208,
   "id": "1aaaf7e9-419c-4c21-82d2-851078f2db0e",
   "metadata": {},
   "outputs": [],
   "source": [
    "# Initialising detritus\n",
    "detritus = xr.zeros_like(detritivores.isel(size_class = 0).drop_vars('size_class'))\n",
    "# Assigning initial values (time = 0) for detritus from gridded parameters\n",
    "detritus = xr.where(detritus == 0, gridded_python['init_detritus'], detritus)\n",
    "#Applying spatial mask\n",
    "detritus = detritus.where(np.isfinite(depth))"
   ]
  },
  {
   "cell_type": "code",
   "execution_count": 209,
   "id": "95f75cf0-f967-4b36-8750-e4ce46c54312",
   "metadata": {},
   "outputs": [
    {
     "data": {
      "text/plain": [
       "<xarray.backends.zarr.ZarrStore at 0x15338efe9840>"
      ]
     },
     "execution_count": 209,
     "metadata": {},
     "output_type": "execute_result"
    }
   ],
   "source": [
    "detritus.name = 'detritus'\n",
    "detritus.to_zarr(os.path.join(out_folder, \n",
    "                              f'detritus_{model_res_arc}_{reg_int}_init_1840.zarr/'),\n",
    "                 consolidated = True, mode = 'w')"
   ]
  },
  {
   "cell_type": "markdown",
   "id": "2d5c7876-2bf3-49bb-af5e-76e77ec40fa5",
   "metadata": {},
   "source": [
    "### Note\n",
    "If no initial values for `predators` and `detritivores` are included in the gridded parameters, use the following code instead:  \n",
    "  \n",
    "```\n",
    "predators = xr.where(predators.size_class >= log10_size_bins[120],\n",
    "                     0, predators)\n",
    "\n",
    "detritivores = xr.where(detritivores.size_class >= log10_size_bins[120], \n",
    "                        0, detritivores)\n",
    "```"
   ]
  },
  {
   "cell_type": "markdown",
   "id": "9fd97fea-803c-4d33-9b4e-534909d94447",
   "metadata": {},
   "source": [
    "### Other intrinsic natural mortality\n",
    "The same intrinsic natural mortality values apply for `detritivores` and `predators`. It is calculated only once, but this variable is saved separately for each group. This is done because the DBPM gridded model needs mortality separately for each group."
   ]
  },
  {
   "cell_type": "code",
   "execution_count": 210,
   "id": "09f88754-b77e-4028-9e36-933914d6d22d",
   "metadata": {},
   "outputs": [],
   "source": [
    "other_mort = gridded_python['natural_mort']*10**(-0.25*log10_size_bins_mat)"
   ]
  },
  {
   "cell_type": "code",
   "execution_count": 211,
   "id": "e5e13f87-6359-42c6-96d6-7179d295f83e",
   "metadata": {},
   "outputs": [
    {
     "data": {
      "text/plain": [
       "<xarray.backends.zarr.ZarrStore at 0x15337da32e40>"
      ]
     },
     "execution_count": 211,
     "metadata": {},
     "output_type": "execute_result"
    }
   ],
   "source": [
    "other_mort.name = 'other_mort_pred'\n",
    "other_mort.to_zarr(os.path.join(out_folder,\n",
    "                                f'other-mort-pred_{model_res_arc}_{reg_int}_fixed.zarr/'),\n",
    "                   consolidated = True, mode = 'w')\n",
    "\n",
    "other_mort.name = 'other_mort_det'\n",
    "other_mort.to_zarr(os.path.join(out_folder,\n",
    "                                f'other-mort-det_{model_res_arc}_{reg_int}_fixed.zarr/'),\n",
    "                   consolidated = True, mode = 'w')\n"
   ]
  },
  {
   "cell_type": "markdown",
   "id": "390e6968-50ba-45e4-996b-578a31d90d0e",
   "metadata": {},
   "source": [
    "### Senescence mortality\n",
    "Senescence mortality rate limits large fish from building up in the system. Same function as in Law et al 2008. Using chosen parameters below gives similar M2 values as in Hall et al. 2006.  \n",
    "  \n",
    "As above, this variable is the same for `detritivores` and `predators`, but saved separately because DBPM model needs a mortality due to senescence for each group."
   ]
  },
  {
   "cell_type": "code",
   "execution_count": 212,
   "id": "aba8d6f2-ea1e-49e4-9d45-1cf1c2d651a2",
   "metadata": {},
   "outputs": [],
   "source": [
    "senes_mort = (gridded_params['const_senescence_mort']*\n",
    "                      10**(gridded_params['exp_senescence_mort']*\n",
    "                           (log10_size_bins_mat-\n",
    "                            gridded_params['size_senescence'])))"
   ]
  },
  {
   "cell_type": "code",
   "execution_count": 213,
   "id": "39e50437-0ab4-48d1-8034-c6366a415d7a",
   "metadata": {},
   "outputs": [
    {
     "data": {
      "text/plain": [
       "<xarray.backends.zarr.ZarrStore at 0x15338efeb4c0>"
      ]
     },
     "execution_count": 213,
     "metadata": {},
     "output_type": "execute_result"
    }
   ],
   "source": [
    "senes_mort.name = 'senes_mort_pred'\n",
    "senes_mort.to_zarr(os.path.join(out_folder,\n",
    "                                f'senes-mort-pred_{model_res_arc}_{reg_int}_fixed.zarr/'),\n",
    "                   consolidated = True, mode = 'w')\n",
    "\n",
    "senes_mort.name = 'senes_mort_det'\n",
    "senes_mort.to_zarr(os.path.join(out_folder,\n",
    "                                f'senes-mort-det_{model_res_arc}_{reg_int}_fixed.zarr/'),\n",
    "                   consolidated = True, mode = 'w')"
   ]
  },
  {
   "cell_type": "markdown",
   "id": "99090838-c8e2-4feb-8241-f64ca4b345a6",
   "metadata": {},
   "source": [
    "### Fishing mortality\n",
    "Here `fishing_mort_pred` and `fishing_mort_det` are fixed catchability terms for `predators` and `detritivores`. Fishing mortality is estimated only for individuals within fished sizes (`ind_min_fish_pred` or `ind_min_fish_det`)."
   ]
  },
  {
   "cell_type": "code",
   "execution_count": 214,
   "id": "f48eac00-af93-4791-b1ec-eb9b42fde3b7",
   "metadata": {},
   "outputs": [],
   "source": [
    "# Using fish_mort_pred as a base for fishing mortality for predators\n",
    "fish_mort_pred = xr.DataArray(\n",
    "    np.repeat(gridded_python['fish_mort_pred'], \n",
    "              np.prod(consume_pelagic.shape)).reshape(consume_pelagic.shape),\n",
    "    dims = ['lat', 'lon', 'size_class'],\n",
    "    coords = {'lat': consume_pelagic.lat, 'lon': consume_pelagic.lon,\n",
    "             'size_class': consume_pelagic.size_class})\n",
    "\n",
    "# Changing mortality to zero outside the predator size fished\n",
    "fishing_mort_pred = xr.where((fish_mort_pred.size_class >= log10_ind_min_fish_pred) &\n",
    "                          (fish_mort_pred.size_class < \n",
    "                           fish_mort_pred.size_class.max()),\n",
    "                          fish_mort_pred, 0).where(np.isfinite(depth))"
   ]
  },
  {
   "cell_type": "code",
   "execution_count": 215,
   "id": "916813b7-4c5f-46d1-aa1a-55332cc9b5ac",
   "metadata": {},
   "outputs": [
    {
     "data": {
      "text/plain": [
       "<xarray.backends.zarr.ZarrStore at 0x15337da313c0>"
      ]
     },
     "execution_count": 215,
     "metadata": {},
     "output_type": "execute_result"
    }
   ],
   "source": [
    "fishing_mort_pred.name = 'fish_mort_pred'\n",
    "fishing_mort_pred.to_zarr(os.path.join(out_folder, \n",
    "                                       f'fish-mort-pred_{model_res_arc}_{reg_int}_fixed.zarr/'),\n",
    "                          consolidated = True, mode = 'w')"
   ]
  },
  {
   "cell_type": "code",
   "execution_count": 216,
   "id": "8a7737e4-707d-46e9-a33f-21836042be38",
   "metadata": {},
   "outputs": [],
   "source": [
    "# Using fish_mort_det as a base for fishing mortality for detritivores\n",
    "fish_mort_det = xr.DataArray(\n",
    "    np.repeat(gridded_python['fish_mort_detritivore'], \n",
    "              np.prod(consume_benthos.shape)).reshape(consume_benthos.shape),\n",
    "    dims = ['lat', 'lon', 'size_class'],\n",
    "    coords = {'lat': consume_benthos.lat, 'lon': consume_benthos.lon,\n",
    "             'size_class': consume_benthos.size_class})\n",
    "\n",
    "# Changing mortality to zero outside the detritivore size fished\n",
    "fishing_mort_det = xr.where((fish_mort_det.size_class >= log10_ind_min_fish_det) &\n",
    "                          (fish_mort_det.size_class < \n",
    "                           fish_mort_det.size_class.max()),\n",
    "                          fish_mort_det, 0).where(np.isfinite(depth))"
   ]
  },
  {
   "cell_type": "code",
   "execution_count": 217,
   "id": "7f896dab-a5c4-4a77-80f3-128fefc768f8",
   "metadata": {},
   "outputs": [
    {
     "data": {
      "text/plain": [
       "<xarray.backends.zarr.ZarrStore at 0x15338efe9d40>"
      ]
     },
     "execution_count": 217,
     "metadata": {},
     "output_type": "execute_result"
    }
   ],
   "source": [
    "fishing_mort_det.name = 'fish_mort_det'\n",
    "fishing_mort_det.to_zarr(os.path.join(\n",
    "    out_folder, f'fish-mort-det_{model_res_arc}_{reg_int}_fixed.zarr/'),\n",
    "                         consolidated = True, mode = 'w')"
   ]
  },
  {
   "cell_type": "markdown",
   "id": "1ad97b15-3511-48ea-9d04-173a48790a47",
   "metadata": {},
   "source": [
    "### Temperature effect on pelagic organisms\n",
    "This will be calculated for the `spinup` and modelling periods"
   ]
  },
  {
   "cell_type": "code",
   "execution_count": 15,
   "id": "611dfdb3-abf0-42bf-8f81-b6e489f5eada",
   "metadata": {},
   "outputs": [],
   "source": [
    "pel_tempeffect_spinup = np.exp(gridded_python['c1']-gridded_python['activation_energy']/\n",
    "                               (gridded_python['boltzmann']*(sea_surf_temp_spinup+273)))\n",
    "\n",
    "pel_tempeffect = np.exp(gridded_python['c1']-gridded_python['activation_energy']/\n",
    "                        (gridded_python['boltzmann']*(sea_surf_temp+273)))"
   ]
  },
  {
   "cell_type": "code",
   "execution_count": 16,
   "id": "5f73e319-7199-43d8-963f-8f70a2386147",
   "metadata": {},
   "outputs": [
    {
     "data": {
      "text/plain": [
       "<xarray.backends.zarr.ZarrStore at 0x145c46cdedc0>"
      ]
     },
     "execution_count": 16,
     "metadata": {},
     "output_type": "execute_result"
    }
   ],
   "source": [
    "pel_tempeffect_spinup.name = 'pel_temp_eff' \n",
    "pel_tempeffect_out = pel_tempeffect_spinup.chunk({'lat': 106, 'lon': 480})\n",
    "pel_tempeffect_out.to_zarr(\n",
    "    os.path.join(out_folder, \n",
    "                 f'pel-temp-eff_spinup_{model_res_arc}_{reg_int}_monthly_1841_1960.zarr/'),\n",
    "    consolidated = True, mode = 'w')\n",
    "\n",
    "pel_tempeffect.name = 'pel_temp_eff' \n",
    "pel_tempeffect_out = pel_tempeffect.chunk({'lat': 106, 'lon': 480})\n",
    "pel_tempeffect_out.to_zarr(\n",
    "    os.path.join(out_folder, f'pel-temp-eff_{model_res_arc}_{reg_int}_monthly_1961_2010.zarr/'),\n",
    "    consolidated = True, mode = 'w')"
   ]
  },
  {
   "cell_type": "markdown",
   "id": "1a76c8aa-390d-4dfa-b8a2-60177bd24069",
   "metadata": {},
   "source": [
    "### Temperature effect on benthic organisms\n",
    "This will be calculated for the `spinup` and modelling periods"
   ]
  },
  {
   "cell_type": "code",
   "execution_count": 17,
   "id": "9f81eddd-1e18-4065-b03b-b36ecf086584",
   "metadata": {},
   "outputs": [],
   "source": [
    "ben_tempeffect_spinup = np.exp(gridded_python['c1']-gridded_python['activation_energy']/\n",
    "                               (gridded_python['boltzmann']*(sea_floor_temp_spinup+273)))\n",
    "\n",
    "ben_tempeffect = np.exp(gridded_python['c1']-gridded_python['activation_energy']/\n",
    "                        (gridded_python['boltzmann']*(sea_floor_temp+273)))"
   ]
  },
  {
   "cell_type": "code",
   "execution_count": 18,
   "id": "6fb1dff9-99e7-4b1e-81bb-e7a44a5de2c4",
   "metadata": {},
   "outputs": [
    {
     "data": {
      "text/plain": [
       "<xarray.backends.zarr.ZarrStore at 0x145bf55b93c0>"
      ]
     },
     "execution_count": 18,
     "metadata": {},
     "output_type": "execute_result"
    }
   ],
   "source": [
    "ben_tempeffect_spinup.name = 'ben_temp_eff'\n",
    "ben_tempeffect_out = ben_tempeffect_spinup.chunk({'lat': 106, 'lon': 480})\n",
    "ben_tempeffect_out.to_zarr(\n",
    "    os.path.join(out_folder, \n",
    "                 f'ben-temp-eff_spinup_{model_res_arc}_{reg_int}_monthly_1841_1960.zarr/'),\n",
    "    consolidated = True, mode = 'w')\n",
    "\n",
    "ben_tempeffect.name = 'ben_temp_eff'\n",
    "ben_tempeffect_out = ben_tempeffect.chunk({'lat': 106, 'lon': 480})\n",
    "ben_tempeffect_out.to_zarr(\n",
    "    os.path.join(out_folder, f'ben-temp-eff_{model_res_arc}_{reg_int}_monthly_1961_2010.zarr/'),\n",
    "    consolidated = True, mode = 'w')"
   ]
  },
  {
   "cell_type": "markdown",
   "id": "69d97e3c-f734-4c1f-be48-121960a80f74",
   "metadata": {},
   "source": [
    "### Note\n",
    "If `temp_effect` is not needed, then simply assign `1` to `pel_tempeffect` and `ben_tempeffect`:  \n",
    "  \n",
    "```\n",
    "pel_tempeffect = 1\n",
    "ben_tempeffect = 1\n",
    "```"
   ]
  }
 ],
 "metadata": {
  "kernelspec": {
   "display_name": "Python [conda env:analysis3-24.07]",
   "language": "python",
   "name": "conda-env-analysis3-24.07-py"
  },
  "language_info": {
   "codemirror_mode": {
    "name": "ipython",
    "version": 3
   },
   "file_extension": ".py",
   "mimetype": "text/x-python",
   "name": "python",
   "nbconvert_exporter": "python",
   "pygments_lexer": "ipython3",
   "version": "3.11.0"
  }
 },
 "nbformat": 4,
 "nbformat_minor": 5
}
